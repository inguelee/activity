{
 "cells": [
  {
   "cell_type": "markdown",
   "id": "f7da16f3",
   "metadata": {},
   "source": [
    "# 문제01 유효한 팰린드롬(완료)"
   ]
  },
  {
   "cell_type": "code",
   "execution_count": 5,
   "id": "37699e24",
   "metadata": {},
   "outputs": [
    {
     "data": {
      "text/plain": [
       "'A man, a plan, a canal: Panama'"
      ]
     },
     "execution_count": 5,
     "metadata": {},
     "output_type": "execute_result"
    }
   ],
   "source": [
    "text = \"A man, a plan, a canal: Panama\"\n",
    "text"
   ]
  },
  {
   "cell_type": "code",
   "execution_count": 3,
   "id": "2cf42d4b",
   "metadata": {},
   "outputs": [
    {
     "data": {
      "text/plain": [
       "'race a car'"
      ]
     },
     "execution_count": 3,
     "metadata": {},
     "output_type": "execute_result"
    }
   ],
   "source": [
    "text = \"race a car\"\n",
    "text"
   ]
  },
  {
   "cell_type": "code",
   "execution_count": 6,
   "id": "4affd954",
   "metadata": {},
   "outputs": [
    {
     "name": "stdout",
     "output_type": "stream",
     "text": [
      "A\n",
      "Am\n",
      "Ama\n",
      "Aman\n",
      "Amana\n",
      "Amanap\n",
      "Amanapl\n",
      "Amanapla\n",
      "Amanaplan\n",
      "Amanaplana\n",
      "Amanaplanac\n",
      "Amanaplanaca\n",
      "Amanaplanacan\n",
      "Amanaplanacana\n",
      "Amanaplanacanal\n",
      "AmanaplanacanalP\n",
      "AmanaplanacanalPa\n",
      "AmanaplanacanalPan\n",
      "AmanaplanacanalPana\n",
      "AmanaplanacanalPanam\n",
      "AmanaplanacanalPanama\n",
      "A == A\n",
      "M == M\n",
      "A == A\n",
      "N == N\n",
      "A == A\n",
      "P == P\n",
      "L == L\n",
      "A == A\n",
      "N == N\n",
      "A == A\n",
      "True\n"
     ]
    }
   ],
   "source": [
    "s = ''\n",
    "for i in text:\n",
    "    if i.isalnum():\n",
    "        s += i\n",
    "        print(s)\n",
    "        \n",
    "s = s.upper()\n",
    "ss = True\n",
    "\n",
    "for i in range(int(len(s) / 2)):\n",
    "    print(s[i],\"==\",s[len(s)-i-1])\n",
    "    if s[i] != s[len(s) - i - 1]:\n",
    "        ss = False\n",
    "        break\n",
    "        \n",
    "print(ss)"
   ]
  },
  {
   "cell_type": "markdown",
   "id": "19655c2e",
   "metadata": {},
   "source": [
    "# 문제02 문자열 뒤집기(완료?)"
   ]
  },
  {
   "cell_type": "code",
   "execution_count": 83,
   "id": "a66d3a10",
   "metadata": {},
   "outputs": [
    {
     "data": {
      "text/plain": [
       "['h', 'e', 'l', 'l', 'o']"
      ]
     },
     "execution_count": 83,
     "metadata": {},
     "output_type": "execute_result"
    }
   ],
   "source": [
    "text = [\"h\",\"e\",\"l\",\"l\",\"o\"]\n",
    "text"
   ]
  },
  {
   "cell_type": "code",
   "execution_count": 81,
   "id": "061f5aee",
   "metadata": {},
   "outputs": [],
   "source": [
    "text.reverse() # 이거 답 아니야?"
   ]
  },
  {
   "cell_type": "code",
   "execution_count": 85,
   "id": "ff7b3250",
   "metadata": {},
   "outputs": [
    {
     "data": {
      "text/plain": [
       "2"
      ]
     },
     "execution_count": 85,
     "metadata": {},
     "output_type": "execute_result"
    }
   ],
   "source": [
    "int(len(text) / 2)"
   ]
  },
  {
   "cell_type": "code",
   "execution_count": 93,
   "id": "0e502056",
   "metadata": {},
   "outputs": [
    {
     "name": "stdout",
     "output_type": "stream",
     "text": [
      "['o', 'l', 'l', 'e', 'h']\n"
     ]
    }
   ],
   "source": [
    "for i in range(int(len(text) / 2)):\n",
    "    text[i], text[len(text) - 1 - i] = text[len(text) - 1 - i], text[i]\n",
    "    \n",
    "print(text)  # 이거 답 아니야?"
   ]
  },
  {
   "cell_type": "code",
   "execution_count": 88,
   "id": "c57da526",
   "metadata": {},
   "outputs": [
    {
     "name": "stdout",
     "output_type": "stream",
     "text": [
      "2 1\n"
     ]
    }
   ],
   "source": [
    "a = '1'\n",
    "b = '2'\n",
    "# x = 's'\n",
    "# y = 't'\n",
    "a, b = b, a\n",
    "print(a,b)"
   ]
  },
  {
   "cell_type": "markdown",
   "id": "084dd853",
   "metadata": {},
   "source": [
    "# 문제04 가장 흔한 단어(완료)"
   ]
  },
  {
   "cell_type": "code",
   "execution_count": 7,
   "id": "b17ecaa6",
   "metadata": {},
   "outputs": [],
   "source": [
    "paragraph = \"Bob hit a ball, the hit BALL flew far after it was hit.\"\n",
    "banned = [\"hit\"]"
   ]
  },
  {
   "cell_type": "code",
   "execution_count": 8,
   "id": "9abc7ba3",
   "metadata": {},
   "outputs": [
    {
     "data": {
      "text/plain": [
       "'!\"#$%&\\'()*+,-./:;<=>?@[\\\\]^_`{|}~'"
      ]
     },
     "execution_count": 8,
     "metadata": {},
     "output_type": "execute_result"
    }
   ],
   "source": [
    "import string\n",
    "import collections\n",
    "string.punctuation"
   ]
  },
  {
   "cell_type": "code",
   "execution_count": 10,
   "id": "36b51245",
   "metadata": {},
   "outputs": [
    {
     "name": "stdout",
     "output_type": "stream",
     "text": [
      "['bob', 'a', 'ball', 'the', 'ball', 'flew', 'far', 'after', 'it', 'was']\n",
      "['hit']\n"
     ]
    }
   ],
   "source": [
    "import string\n",
    "words = paragraph.lower().split()\n",
    "new_words = []\n",
    "for word in words:\n",
    "    for letter in word:\n",
    "        if letter in string.punctuation:\n",
    "            word = word.replace(letter,\"\")\n",
    "    \n",
    "    new_words.append(word)\n",
    "    for i in banned:\n",
    "        if word == i:\n",
    "#             print(word)\n",
    "            new_words.remove(i)\n",
    "\n",
    "print(new_words)\n",
    "print(banned)"
   ]
  },
  {
   "cell_type": "code",
   "execution_count": 11,
   "id": "f1939cb4",
   "metadata": {},
   "outputs": [
    {
     "name": "stdout",
     "output_type": "stream",
     "text": [
      "Counter({'ball': 2, 'bob': 1, 'a': 1, 'the': 1, 'flew': 1, 'far': 1, 'after': 1, 'it': 1, 'was': 1})\n",
      "ball\n"
     ]
    }
   ],
   "source": [
    "new_words2 = []\n",
    "for i in range(len(new_words)):\n",
    "    new_words2.append(new_words[i])\n",
    "\n",
    "x = collections.Counter(new_words2)\n",
    "print(x)\n",
    "print(x.most_common(1)[0][0])"
   ]
  },
  {
   "cell_type": "markdown",
   "id": "0c52c62b",
   "metadata": {},
   "source": [
    "# 문제05 그룹 애너그램(미완료)"
   ]
  },
  {
   "cell_type": "code",
   "execution_count": 36,
   "id": "3bd2a619",
   "metadata": {},
   "outputs": [
    {
     "data": {
      "text/plain": [
       "['eat', 'tea', 'tan', 'ate', 'nat', 'bat']"
      ]
     },
     "execution_count": 36,
     "metadata": {},
     "output_type": "execute_result"
    }
   ],
   "source": [
    "text = [\"eat\",\"tea\",\"tan\",\"ate\",\"nat\",\"bat\"]\n",
    "text"
   ]
  },
  {
   "cell_type": "code",
   "execution_count": 43,
   "id": "91e2aa65",
   "metadata": {},
   "outputs": [
    {
     "name": "stdout",
     "output_type": "stream",
     "text": [
      "['a', 'e', 't']\n",
      "['a', 'e', 't']\n",
      "['a', 'n', 't']\n",
      "['a', 'e', 't']\n",
      "['a', 'n', 't']\n",
      "['a', 'b', 't']\n"
     ]
    }
   ],
   "source": [
    "for i in text:\n",
    "    print(sorted(i))"
   ]
  },
  {
   "cell_type": "code",
   "execution_count": 38,
   "id": "4eaf567d",
   "metadata": {},
   "outputs": [
    {
     "name": "stdout",
     "output_type": "stream",
     "text": [
      "e\n",
      "a\n",
      "t\n",
      "t\n",
      "e\n",
      "a\n",
      "t\n",
      "a\n",
      "n\n",
      "a\n",
      "t\n",
      "e\n",
      "n\n",
      "a\n",
      "t\n",
      "b\n",
      "a\n",
      "t\n"
     ]
    }
   ],
   "source": [
    "for i in text:\n",
    "    for j in i:\n",
    "        print(j)"
   ]
  },
  {
   "cell_type": "code",
   "execution_count": 39,
   "id": "673c1cae",
   "metadata": {},
   "outputs": [
    {
     "name": "stdout",
     "output_type": "stream",
     "text": [
      "[['e', 'a', 't'], ['t', 'e', 'a'], ['t', 'a', 'n'], ['a', 't', 'e'], ['n', 'a', 't'], ['b', 'a', 't']]\n"
     ]
    }
   ],
   "source": [
    "l1 = []\n",
    "l2 = []\n",
    "for i in text:\n",
    "    l2 = []\n",
    "    for j in i:\n",
    "        l2.append(j)\n",
    "    l1.append(l2)\n",
    "print(l1)"
   ]
  },
  {
   "cell_type": "code",
   "execution_count": 40,
   "id": "fe04c7ff",
   "metadata": {},
   "outputs": [
    {
     "name": "stdout",
     "output_type": "stream",
     "text": [
      "eat\n",
      "tea\n",
      "tan\n",
      "ate\n",
      "nat\n",
      "bat\n",
      "[['eat'], ['tea'], ['tan'], ['ate'], ['nat'], ['bat']]\n"
     ]
    }
   ],
   "source": [
    "l1 = []\n",
    "l2 = []\n",
    "for i in text:\n",
    "    print(i)\n",
    "    l1 = []\n",
    "    l1.append(i)\n",
    "    l2.append(l1)\n",
    "print(l2)"
   ]
  },
  {
   "cell_type": "code",
   "execution_count": 29,
   "id": "c1f989b3",
   "metadata": {},
   "outputs": [
    {
     "name": "stdout",
     "output_type": "stream",
     "text": [
      "0\n",
      "11\n",
      "-1\n"
     ]
    }
   ],
   "source": [
    "text = 'Welcome to Codetorial'\n",
    "\n",
    "pos_e = text.find('W')\n",
    "print(pos_e)\n",
    "\n",
    "pos_Code = text.find('Code')\n",
    "print(pos_Code)\n",
    "\n",
    "pos_code = text.find('code')\n",
    "print(pos_code)"
   ]
  },
  {
   "cell_type": "code",
   "execution_count": 46,
   "id": "8a24338f",
   "metadata": {},
   "outputs": [
    {
     "name": "stdout",
     "output_type": "stream",
     "text": [
      "True\n"
     ]
    }
   ],
   "source": [
    "ingue = ['eat','ate','swefg']\n",
    "print(sorted(ingue[0]) == sorted(ingue[1]))"
   ]
  },
  {
   "cell_type": "code",
   "execution_count": 59,
   "id": "63ab3dc0",
   "metadata": {},
   "outputs": [
    {
     "name": "stdout",
     "output_type": "stream",
     "text": [
      "[['eat']]\n",
      "[\"'\", \"'\", '[', ']', 'a', 'e', 't']\n"
     ]
    }
   ],
   "source": [
    "s1 = []\n",
    "s2 = []\n",
    "s1.append(text[0])\n",
    "s2.append(s1)\n",
    "print(s2)\n",
    "print(sorted(str(s1)))\n",
    "\n",
    "s1 = []\n",
    "for i in range(1, len(text)):\n",
    "    if sorted(text[i]) == sorted(s2):\n",
    "        pass"
   ]
  },
  {
   "cell_type": "markdown",
   "id": "f6c75693",
   "metadata": {},
   "source": [
    "-------------------------------------------------------------------------"
   ]
  },
  {
   "cell_type": "code",
   "execution_count": 63,
   "id": "750f69d3",
   "metadata": {},
   "outputs": [],
   "source": [
    "a = ['eat','tea','tan','ate','nat','bat']"
   ]
  },
  {
   "cell_type": "code",
   "execution_count": 64,
   "id": "391fd001",
   "metadata": {},
   "outputs": [
    {
     "ename": "TypeError",
     "evalue": "'type' object is not subscriptable",
     "output_type": "error",
     "traceback": [
      "\u001b[1;31m---------------------------------------------------------------------------\u001b[0m",
      "\u001b[1;31mTypeError\u001b[0m                                 Traceback (most recent call last)",
      "\u001b[1;32m~\\AppData\\Local\\Temp/ipykernel_344/371346922.py\u001b[0m in \u001b[0;36m<module>\u001b[1;34m\u001b[0m\n\u001b[0;32m      1\u001b[0m \u001b[1;32mimport\u001b[0m \u001b[0mcollections\u001b[0m\u001b[1;33m\u001b[0m\u001b[1;33m\u001b[0m\u001b[0m\n\u001b[1;32m----> 2\u001b[1;33m \u001b[1;32mdef\u001b[0m \u001b[0mgroupAnagrams\u001b[0m\u001b[1;33m(\u001b[0m\u001b[0mstrs\u001b[0m\u001b[1;33m)\u001b[0m \u001b[1;33m->\u001b[0m\u001b[0mlist\u001b[0m\u001b[1;33m[\u001b[0m\u001b[0mlist\u001b[0m\u001b[1;33m[\u001b[0m\u001b[0mstr\u001b[0m\u001b[1;33m]\u001b[0m\u001b[1;33m]\u001b[0m\u001b[1;33m:\u001b[0m\u001b[1;33m\u001b[0m\u001b[1;33m\u001b[0m\u001b[0m\n\u001b[0m\u001b[0;32m      3\u001b[0m     \u001b[0managrams\u001b[0m \u001b[1;33m=\u001b[0m \u001b[0mcollections\u001b[0m\u001b[1;33m.\u001b[0m\u001b[0mdefaultdict\u001b[0m\u001b[1;33m(\u001b[0m\u001b[0mlist\u001b[0m\u001b[1;33m)\u001b[0m\u001b[1;33m\u001b[0m\u001b[1;33m\u001b[0m\u001b[0m\n\u001b[0;32m      4\u001b[0m \u001b[1;33m\u001b[0m\u001b[0m\n\u001b[0;32m      5\u001b[0m     \u001b[1;32mfor\u001b[0m \u001b[0mword\u001b[0m \u001b[1;32min\u001b[0m \u001b[0mstrs\u001b[0m\u001b[1;33m:\u001b[0m\u001b[1;33m\u001b[0m\u001b[1;33m\u001b[0m\u001b[0m\n",
      "\u001b[1;31mTypeError\u001b[0m: 'type' object is not subscriptable"
     ]
    }
   ],
   "source": [
    "import collections\n",
    "def groupAnagrams(strs) ->list[list[str]]:\n",
    "    anagrams = collections.defaultdict(list)\n",
    "    \n",
    "    for word in strs:\n",
    "        anagrams[''.join(sorted(word))].append(word)\n",
    "    return list(anagrams.values())\n",
    "\n",
    "\n",
    "b = groupAnagrams(a)\n",
    "b"
   ]
  },
  {
   "cell_type": "markdown",
   "id": "efc8d05d",
   "metadata": {},
   "source": [
    "defaultdict란 collections.defaultdict는 딕셔너리(dictionary)와 거의 비슷하지만 key값이 없을 경우 미리 지정해 놓은 초기(default)값을 반환하는 dictonary이다."
   ]
  },
  {
   "cell_type": "code",
   "execution_count": 65,
   "id": "a78aed75",
   "metadata": {},
   "outputs": [
    {
     "data": {
      "text/plain": [
       "[1, 2, 5, 7, 9]"
      ]
     },
     "execution_count": 65,
     "metadata": {},
     "output_type": "execute_result"
    }
   ],
   "source": [
    "a = [2,5,1,9,7]\n",
    "sorted(a)"
   ]
  },
  {
   "cell_type": "code",
   "execution_count": 67,
   "id": "3a5c442b",
   "metadata": {},
   "outputs": [
    {
     "data": {
      "text/plain": [
       "['a', 'b', 'd', 'f', 'z']"
      ]
     },
     "execution_count": 67,
     "metadata": {},
     "output_type": "execute_result"
    }
   ],
   "source": [
    "b = 'zbdaf'\n",
    "sorted(b)\n",
    "# sorted()함수가 정렬된 문자 목록만 반환한다.\n",
    "# 이 문제는 str.join()함수로 해결 가능\n",
    "# str.join()함수는 iterable을 취하고 호출 문자열의 끝에 각 요소를 추가"
   ]
  },
  {
   "cell_type": "code",
   "execution_count": 68,
   "id": "8fb671e3",
   "metadata": {},
   "outputs": [
    {
     "data": {
      "text/plain": [
       "'abdfz'"
      ]
     },
     "execution_count": 68,
     "metadata": {},
     "output_type": "execute_result"
    }
   ],
   "source": [
    "''.join(sorted(b))"
   ]
  },
  {
   "cell_type": "code",
   "execution_count": 70,
   "id": "401ed67b",
   "metadata": {},
   "outputs": [
    {
     "data": {
      "text/plain": [
       "['d', 'bb', 'ccc', 'aaaa']"
      ]
     },
     "execution_count": 70,
     "metadata": {},
     "output_type": "execute_result"
    }
   ],
   "source": [
    "c = ['ccc','aaaa','d','bb']\n",
    "sorted(c,key=len)"
   ]
  },
  {
   "cell_type": "code",
   "execution_count": 72,
   "id": "0a094600",
   "metadata": {},
   "outputs": [
    {
     "name": "stdout",
     "output_type": "stream",
     "text": [
      "['abc', 'cfc', 'cde']\n"
     ]
    }
   ],
   "source": [
    "a = ['cde','cfc','abc']\n",
    "def fn(s):\n",
    "    return s[0], s[-1]\n",
    "print(sorted(a, key = fn))"
   ]
  },
  {
   "cell_type": "code",
   "execution_count": 73,
   "id": "1b6d1cb2",
   "metadata": {},
   "outputs": [
    {
     "data": {
      "text/plain": [
       "['abc', 'cfc', 'cde']"
      ]
     },
     "execution_count": 73,
     "metadata": {},
     "output_type": "execute_result"
    }
   ],
   "source": [
    "a = ['cde','cfc','abc']\n",
    "sorted(a, key = lambda s: (s[0],s[-1]))"
   ]
  },
  {
   "cell_type": "markdown",
   "id": "b279c64d",
   "metadata": {},
   "source": [
    "# 06 가장 긴 팰린드롬 부분 문자열"
   ]
  },
  {
   "cell_type": "code",
   "execution_count": 74,
   "id": "e30b939a",
   "metadata": {},
   "outputs": [
    {
     "name": "stdout",
     "output_type": "stream",
     "text": [
      "bab\n"
     ]
    }
   ],
   "source": [
    "def longestPalindrome(s) -> str:\n",
    "    # 팰린드롬 판별 및 투 포인터 확장\n",
    "    def expand(left, right) -> str:\n",
    "        while left >= 0 and right < len(s) and s[left] == s[right]:\n",
    "            left -= 1\n",
    "            right += 1\n",
    "        return s[left +1 : right]\n",
    "    \n",
    "    # 해당 사항 없을 때 빠르게 리턴\n",
    "    if len(s) < 2 or s == s[::-1]:\n",
    "        return s\n",
    "    \n",
    "    result = ''\n",
    "    # 슬라이딩 윈도우 우측으로 이동\n",
    "    for i in range(len(s) - 1):\n",
    "        result = max(result, expand(i,i+1),expand(i,i+2),key = len)\n",
    "    return result\n",
    "\n",
    "a = \"babad\"\n",
    "print(longestPalindrome(a))"
   ]
  },
  {
   "cell_type": "code",
   "execution_count": 75,
   "id": "77b19368",
   "metadata": {},
   "outputs": [
    {
     "name": "stdout",
     "output_type": "stream",
     "text": [
      "bab\n"
     ]
    }
   ],
   "source": [
    "def longestPalindrome(s) -> str:\n",
    "    # 팰린드롬 판별 및 투 포인터 확장\n",
    "    def expand(left, right) -> str:\n",
    "        while left >= 0 and right < len(s) and s[left] == s[right]:\n",
    "            left -= 1\n",
    "            right += 1\n",
    "        return s[left + 1 : right]\n",
    "    \n",
    "    # 해당 사항 없을 때 빠르게 리턴\n",
    "    if len(s) < 2 or s == s[::-1]:\n",
    "        return s\n",
    "    \n",
    "    result = ''\n",
    "    # 슬라이딩 윈도우 우측으로 이동\n",
    "    for i in range(len(s) - 1):\n",
    "        result = max(result, expand(i, i + 1), expand(i, i+2), key = len)\n",
    "    return result\n",
    "\n",
    "a = \"babad\"\n",
    "print(longestPalindrome(a))"
   ]
  },
  {
   "cell_type": "code",
   "execution_count": null,
   "id": "8f19ee60",
   "metadata": {},
   "outputs": [],
   "source": []
  }
 ],
 "metadata": {
  "kernelspec": {
   "display_name": "Python 3 (ipykernel)",
   "language": "python",
   "name": "python3"
  },
  "language_info": {
   "codemirror_mode": {
    "name": "ipython",
    "version": 3
   },
   "file_extension": ".py",
   "mimetype": "text/x-python",
   "name": "python",
   "nbconvert_exporter": "python",
   "pygments_lexer": "ipython3",
   "version": "3.8.10"
  }
 },
 "nbformat": 4,
 "nbformat_minor": 5
}
