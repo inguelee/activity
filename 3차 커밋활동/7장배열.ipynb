{
 "cells": [
  {
   "cell_type": "markdown",
   "id": "4ed3c2e8",
   "metadata": {},
   "source": [
    "# 문제07 두 수의 합"
   ]
  },
  {
   "cell_type": "code",
   "execution_count": 110,
   "id": "baa4bcfa",
   "metadata": {},
   "outputs": [],
   "source": [
    "nums = [2, 7, 11, 15]\n",
    "target = 9"
   ]
  },
  {
   "cell_type": "code",
   "execution_count": 79,
   "id": "9b0918db",
   "metadata": {},
   "outputs": [],
   "source": [
    "nums = [3,2,4]\n",
    "target = 6"
   ]
  },
  {
   "cell_type": "code",
   "execution_count": 82,
   "id": "c2559115",
   "metadata": {},
   "outputs": [],
   "source": [
    "nums = [3,3]\n",
    "target = 6"
   ]
  },
  {
   "cell_type": "code",
   "execution_count": 12,
   "id": "33a145d4",
   "metadata": {},
   "outputs": [
    {
     "name": "stdout",
     "output_type": "stream",
     "text": [
      "[0, 1]\n"
     ]
    }
   ],
   "source": [
    "p = []\n",
    "for i, v in enumerate(nums):\n",
    "    if target >= v:\n",
    "        target -= v\n",
    "        p.append(i)\n",
    "        \n",
    "print(p)"
   ]
  },
  {
   "cell_type": "code",
   "execution_count": 46,
   "id": "09ec7d14",
   "metadata": {},
   "outputs": [
    {
     "name": "stdout",
     "output_type": "stream",
     "text": [
      "0 2\n",
      "1 3\n",
      "2 2\n",
      "3 45\n",
      "4 2\n",
      "5 5\n"
     ]
    }
   ],
   "source": [
    "a = [1,2,3,2,45,2,5]\n",
    "\n",
    "for i, v in enumerate(a[1:]):\n",
    "    print(i, v)"
   ]
  },
  {
   "cell_type": "markdown",
   "id": "3ab6f09c",
   "metadata": {},
   "source": [
    "# 이인구가 푼 코드(풀이1 브루트 포스로 계산)"
   ]
  },
  {
   "cell_type": "code",
   "execution_count": 84,
   "id": "3c246a4f",
   "metadata": {},
   "outputs": [
    {
     "data": {
      "text/plain": [
       "[0, 1]"
      ]
     },
     "execution_count": 84,
     "metadata": {},
     "output_type": "execute_result"
    }
   ],
   "source": [
    "for i, v in enumerate(nums[:-1]):\n",
    "    for j, w in enumerate(nums[1:], start=1):\n",
    "        if v + w == target:\n",
    "            p = [i, j]\n",
    "            \n",
    "p"
   ]
  },
  {
   "cell_type": "markdown",
   "id": "add9b40e",
   "metadata": {},
   "source": [
    "# 풀이2 in을 이용한 탐색"
   ]
  },
  {
   "cell_type": "code",
   "execution_count": 106,
   "id": "8586da26",
   "metadata": {},
   "outputs": [
    {
     "name": "stdout",
     "output_type": "stream",
     "text": [
      "0 7\n",
      "1 2\n",
      "2 -2\n",
      "3 -6\n",
      "3 15\n"
     ]
    },
    {
     "data": {
      "text/plain": [
       "[0, 1]"
      ]
     },
     "execution_count": 106,
     "metadata": {},
     "output_type": "execute_result"
    }
   ],
   "source": [
    "\n",
    "for i, n in enumerate(nums):\n",
    "    complement = target - n\n",
    "    print(i, complement)\n",
    "\n",
    "print(i, n)\n",
    "    if complement in nums[i + 1:]:\n",
    "        print(complement, i+1)\n",
    "        p = [nums.index(n), nums[i + 1:].index(complement) + (i + 1)]\n",
    "\n",
    "p"
   ]
  },
  {
   "cell_type": "markdown",
   "id": "67fbe3fc",
   "metadata": {},
   "source": [
    "# 풀이3 첫 번째 수를 뺀 결과 키 조회"
   ]
  },
  {
   "cell_type": "code",
   "execution_count": 111,
   "id": "1a234fc2",
   "metadata": {},
   "outputs": [
    {
     "name": "stdout",
     "output_type": "stream",
     "text": [
      "[1, 0]\n"
     ]
    }
   ],
   "source": [
    "nums_map = {}\n",
    "# 키와 값을 바꿔서 딕셔너리로 저장\n",
    "for i, num in enumerate(nums):\n",
    "    nums_map[num] = i\n",
    "    \n",
    "# 타겟에서 첫 번째 수를 뺀 결과를 키로 조회\n",
    "for i, num in enumerate(nums):\n",
    "    if target - num in nums_map and i != nums_map[target - num]:\n",
    "        p = [i, nums_map[target - num]]\n",
    "        \n",
    "print(p)"
   ]
  },
  {
   "cell_type": "markdown",
   "id": "39435283",
   "metadata": {},
   "source": [
    "# 풀이4 조회 구조 개선"
   ]
  },
  {
   "cell_type": "code",
   "execution_count": 115,
   "id": "b2893061",
   "metadata": {},
   "outputs": [
    {
     "name": "stdout",
     "output_type": "stream",
     "text": [
      "[0, 1]\n"
     ]
    }
   ],
   "source": [
    "nums = [2, 7, 11, 15]\n",
    "target = 9\n",
    "\n",
    "nums_map = {}\n",
    "# 하나의 for 문으로 통합\n",
    "for i, num in enumerate(nums):\n",
    "    if target - num in nums_map:\n",
    "        p = [nums_map[target - num], i]\n",
    "    nums_map[num] = i\n",
    "    \n",
    "print(p)"
   ]
  },
  {
   "cell_type": "markdown",
   "id": "78f1205b",
   "metadata": {},
   "source": [
    "# 풀이5 투 포인터 이용"
   ]
  },
  {
   "cell_type": "code",
   "execution_count": 120,
   "id": "b5b9addb",
   "metadata": {},
   "outputs": [
    {
     "name": "stdout",
     "output_type": "stream",
     "text": [
      "[0, 1]\n"
     ]
    }
   ],
   "source": [
    "nums = [2, 7, 11, 15]\n",
    "target = 9\n",
    "\n",
    "nums.sort()\n",
    "left, right = 0, len(nums) - 1\n",
    "while not left == right:\n",
    "    # 합이 타겟보다 작으면 왼쪽 포인터를 오른쪽으로\n",
    "    if nums[left] + nums[right] < target:\n",
    "        left += 1\n",
    "    # 합이 타겟보다 크면 오른쪽 포인터를 왼쪽으로\n",
    "    elif nums[left] + nums[right] > target:\n",
    "        right -= 1\n",
    "    else:\n",
    "        p = [left, right]\n",
    "        break\n",
    "\n",
    "print(p)"
   ]
  },
  {
   "cell_type": "code",
   "execution_count": null,
   "id": "5294a3ef",
   "metadata": {},
   "outputs": [],
   "source": [
    "func"
   ]
  }
 ],
 "metadata": {
  "kernelspec": {
   "display_name": "Python 3 (ipykernel)",
   "language": "python",
   "name": "python3"
  },
  "language_info": {
   "codemirror_mode": {
    "name": "ipython",
    "version": 3
   },
   "file_extension": ".py",
   "mimetype": "text/x-python",
   "name": "python",
   "nbconvert_exporter": "python",
   "pygments_lexer": "ipython3",
   "version": "3.8.10"
  }
 },
 "nbformat": 4,
 "nbformat_minor": 5
}
